{
 "cells": [
  {
   "cell_type": "code",
   "execution_count": 1,
   "id": "7a031526-b616-481b-9b6e-fbb5779d534e",
   "metadata": {},
   "outputs": [],
   "source": [
    "import numpy as np\n",
    "from simfunctions import *\n",
    "from Sim_classes import *"
   ]
  },
  {
   "cell_type": "code",
   "execution_count": null,
   "id": "56006406-b1ef-4be1-867a-b0df8137190f",
   "metadata": {},
   "outputs": [],
   "source": [
    "time = Time(601, 10, 60)"
   ]
  }
 ],
 "metadata": {
  "kernelspec": {
   "display_name": "Python 3 (ipykernel)",
   "language": "python",
   "name": "python3"
  },
  "language_info": {
   "codemirror_mode": {
    "name": "ipython",
    "version": 3
   },
   "file_extension": ".py",
   "mimetype": "text/x-python",
   "name": "python",
   "nbconvert_exporter": "python",
   "pygments_lexer": "ipython3",
   "version": "3.9.7"
  }
 },
 "nbformat": 4,
 "nbformat_minor": 5
}
